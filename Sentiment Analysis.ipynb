{
 "cells": [
  {
   "cell_type": "markdown",
   "metadata": {
    "id": "MGHoy6KpQDfZ"
   },
   "source": [
    "# Sentiment Analysis\n"
   ]
  },
  {
   "cell_type": "markdown",
   "metadata": {
    "id": "34DVNKgqQY21"
   },
   "source": [
    "# 1 - Data Preprocessing"
   ]
  },
  {
   "cell_type": "markdown",
   "metadata": {
    "id": "7cWUxAQrGlq6"
   },
   "source": [
    "## 1.1. Download Dataset"
   ]
  },
  {
   "cell_type": "code",
   "execution_count": 1,
   "metadata": {
    "colab": {
     "base_uri": "https://localhost:8080/"
    },
    "id": "U7C4snIcNl22",
    "outputId": "d19ccdec-2da8-417f-9bc7-050e40c98751"
   },
   "outputs": [
    {
     "name": "stdout",
     "output_type": "stream",
     "text": [
      "------------------------------------\n",
      "Size of training dataset: 8000\n",
      "Size of testing dataset: 2000\n",
      "------------------------------------\n",
      "------------------------------------\n",
      "Sample Data\n",
      "LABEL: neg / SENTENCE: Everything in the kids section of IKEA is so cute. Shame I'm nearly 19 in 2 months :(\n",
      "------------------------------------\n"
     ]
    }
   ],
   "source": [
    "# Code to download file into Colaboratory:\n",
    "!pip install -U -q PyDrive\n",
    "from pydrive.auth import GoogleAuth\n",
    "from pydrive.drive import GoogleDrive\n",
    "from google.colab import auth\n",
    "from oauth2client.client import GoogleCredentials\n",
    "# Authenticate and create the PyDrive client.\n",
    "auth.authenticate_user()\n",
    "gauth = GoogleAuth()\n",
    "gauth.credentials = GoogleCredentials.get_application_default()\n",
    "drive = GoogleDrive(gauth)\n",
    "\n",
    "id = '1lTD6bgRkmwguGAr30v-r0KBPdtnVneLb'\n",
    "downloaded = drive.CreateFile({'id':id}) \n",
    "downloaded.GetContentFile('testing_data.pkl')  \n",
    "\n",
    "id = '1pCUdlZMoj99UZHtqFeza86fvVQfFmDFX'\n",
    "downloaded = drive.CreateFile({'id':id}) \n",
    "downloaded.GetContentFile('training_data.pkl')  \n",
    "\n",
    "import pickle\n",
    "training_data = pickle.load(open(\"training_data.pkl\",\"rb\"))\n",
    "testing_data = pickle.load(open(\"testing_data.pkl\",\"rb\"))\n",
    "\n",
    "print(\"------------------------------------\")\n",
    "print(\"Size of training dataset: {0}\".format(len(training_data)))\n",
    "print(\"Size of testing dataset: {0}\".format(len(testing_data)))\n",
    "print(\"------------------------------------\")\n",
    "\n",
    "print(\"------------------------------------\")\n",
    "print(\"Sample Data\")\n",
    "print(\"LABEL: {0} / SENTENCE: {1}\".format(training_data[1][0], training_data[1][1]))\n",
    "print(\"------------------------------------\")\n"
   ]
  },
  {
   "cell_type": "markdown",
   "metadata": {
    "id": "l9gBSgBCQh24"
   },
   "source": [
    "## 1.2. Preprocess data"
   ]
  },
  {
   "cell_type": "markdown",
   "metadata": {
    "id": "8RdKI8E2KRwe"
   },
   "source": [
    "\n",
    "\n",
    "*For data preprocessing, in order to ensure that the order of the data does not affect the results of the sentiment analysis experiment, I first randomized the experimental data and separated the text and tags in the data. Then process the label, convert'neg' to 0, and'pos' to 1 and store.*\n",
    "\n",
    "*For the preprocessing of text data, because the project is a sentiment analysis experiment, some irrelevant punctuation marks and numbers need to be removed, because these symbols do not represent a certain emotion. But for expressions like ':)', they represent a certain emotion, such as happiness or sadness, so I converted these symbols into corresponding text, and for emoji, I also converted it into text.*\n",
    "\n",
    "*Then I processed the text to lowercase. This is to unify all the same words.Whether it is word embedding or RNN network, the text data needs to be segmented, and the entire sentence cannot be used as training data, so it needs to be segmented. After the word segmentation, stop word removal and lemmatization processing are performed. Because it is sentiment analysis, words of different forms basically have the same Emotional meaning, but stop words don’t have much effect.*\n"
   ]
  },
  {
   "cell_type": "code",
   "execution_count": 2,
   "metadata": {
    "colab": {
     "base_uri": "https://localhost:8080/"
    },
    "id": "jeWI2g1je4Cf",
    "outputId": "d4696037-9539-49e4-aeb1-ce21e5de7c5d"
   },
   "outputs": [
    {
     "name": "stdout",
     "output_type": "stream",
     "text": [
      "Requirement already satisfied: emojiswitch in /usr/local/lib/python3.7/dist-packages (0.0.1)\n"
     ]
    }
   ],
   "source": [
    " pip install emojiswitch"
   ]
  },
  {
   "cell_type": "code",
   "execution_count": 3,
   "metadata": {
    "colab": {
     "base_uri": "https://localhost:8080/"
    },
    "id": "XlkMh1Oc4mIz",
    "outputId": "708b4377-6142-477c-b009-ddfdb7fd2eab"
   },
   "outputs": [
    {
     "name": "stdout",
     "output_type": "stream",
     "text": [
      "[nltk_data] Downloading package punkt to /root/nltk_data...\n",
      "[nltk_data]   Package punkt is already up-to-date!\n",
      "[nltk_data] Downloading package stopwords to /root/nltk_data...\n",
      "[nltk_data]   Package stopwords is already up-to-date!\n",
      "[nltk_data] Downloading package wordnet to /root/nltk_data...\n",
      "[nltk_data]   Package wordnet is already up-to-date!\n"
     ]
    }
   ],
   "source": [
    "import numpy as np\n",
    "from sklearn.preprocessing import LabelEncoder\n",
    "import re\n",
    "import nltk\n",
    "from nltk.tokenize import TweetTokenizer\n",
    "nltk.download('punkt')\n",
    "nltk.download('stopwords')\n",
    "nltk.download('wordnet')\n",
    "from nltk.corpus import stopwords as sw\n",
    "from nltk.tokenize import word_tokenize\n",
    "from nltk.stem import WordNetLemmatizer\n",
    "lemmatizer = WordNetLemmatizer()\n",
    "from tqdm import tqdm\n",
    "import warnings\n",
    "warnings.simplefilter(action='ignore', category=FutureWarning)\n",
    "import emojiswitch\n",
    "import time"
   ]
  },
  {
   "cell_type": "code",
   "execution_count": 4,
   "metadata": {
    "id": "uLa0KbJd4SNj"
   },
   "outputs": [],
   "source": [
    "training_data = np.array(training_data)\n",
    "np.random.shuffle(training_data)\n",
    "np.random.shuffle(testing_data)\n",
    "#randomized the data"
   ]
  },
  {
   "cell_type": "code",
   "execution_count": 5,
   "metadata": {
    "id": "emyl1lWxGr12"
   },
   "outputs": [],
   "source": [
    "#separated the text and labels in the data\n",
    "train_data = [data for (_,data) in training_data]\n",
    "train_label = [label for (label,_) in training_data]\n",
    "test_data = [data for (_,data) in testing_data]\n",
    "test_label = [label for (label,_) in testing_data]\n",
    "labels = [\"neg\",\"pos\"]"
   ]
  },
  {
   "cell_type": "code",
   "execution_count": 6,
   "metadata": {
    "colab": {
     "base_uri": "https://localhost:8080/"
    },
    "id": "EP7wgZ-cWL0p",
    "outputId": "7cc8f051-382f-47d0-ef27-7570c5864de5"
   },
   "outputs": [
    {
     "name": "stdout",
     "output_type": "stream",
     "text": [
      "['pos', 'neg', 'pos', 'neg', 'pos', 'neg', 'pos', 'pos', 'neg', 'pos']\n",
      "[1 0 1 0 1 0 1 1 0 1]\n"
     ]
    }
   ],
   "source": [
    "#convert'neg' to 0, and 'pos' to 1\n",
    "lEnc = LabelEncoder()\n",
    "lEnc.fit(labels)\n",
    "train_label_encoded= lEnc.transform(train_label)\n",
    "test_label_encoded= lEnc.transform(test_label)\n",
    "print(train_label[:10])\n",
    "print(train_label_encoded[:10])"
   ]
  },
  {
   "cell_type": "code",
   "execution_count": 7,
   "metadata": {
    "id": "DjIyGbFH7qdA"
   },
   "outputs": [],
   "source": [
    "puncts = [',', '.', '\"', ':', ')', '(', '-', '!', '?', '|', ';', \"'\", '$', '&', '/', '[', ']', '>', '%', '=', '#', '*', '+', '\\\\', '•',  '~', '@', '£', \n",
    " '·', '_', '__','{', '}', '©', '^', '®', '`',  '<', '→', '°', '€', '™', '›',  '♥', '←', '×', '§', '″', '′', 'Â', '█', '½', 'à', '…', \n",
    " '“', '★', '”', '–', '●', 'â', '►', '−', '¢', '²', '¬', '░', '¶', '↑', '±', '¿', '▾', '═', '¦', '║', '―', '¥', '▓', '—', '‹', '─', \n",
    " '▒', '：', '¼', '⊕', '▼', '▪', '†', '■', '’', '▀', '¨', '▄', '♫', '☆', 'é', '¯', '♦', '¤', '▲', 'è', '¸', '¾', 'Ã', '⋅', '‘', '∞', \n",
    " '∙', '）', '↓', '、', '│', '（', '»', '，', '♪', '╩', '╚', '³', '・', '╦', '╣', '╔', '╗', '▬', '❤', 'ï', 'Ø', '¹', '≤', '‡', '√']\n",
    "#removing punctuation\n",
    "def remove_punctuation(x):\n",
    "    x = str(x)\n",
    "    for punct in puncts:\n",
    "        if punct in x:\n",
    "            x = x.replace(punct, '')\n",
    "    return x\n",
    "#removing numbers and punctuation\n",
    "def remove_punctuation_re(x):\n",
    "  \n",
    "    x = re.sub(r'[^\\w\\s]','',x)\n",
    "    x = re.sub(r'[0-9]','',x)\n",
    "\n",
    "    return x\n",
    "\n",
    "#converted emoji into text\n",
    "def emoji_to_word(string):\n",
    "\n",
    "  new_string = emojiswitch.demojize(string, delimiters=(\" \", \"\"), lang=\"en\")\n",
    "  \n",
    "  return new_string\n",
    "\n",
    "emotions = {\n",
    "    ':(' : 'sad',\n",
    "    ':)' : 'happy',\n",
    "    ':-(' : 'sad',\n",
    "    ':-)' : 'happy',\n",
    "    ':P': 'wink and tongue sticking out',\n",
    "    ':D': 'happy'\n",
    "}\n",
    "#converted emotions symbols into text\n",
    "def emotions_to_word(token_list):\n",
    "  for i,words in enumerate(token_list):\n",
    "    if words in emotions:\n",
    "      token_list[i] = emotions[words]\n",
    "  return token_list\n",
    "\n",
    "tknzr = TweetTokenizer()\n",
    "stop_words = sw.words()\n",
    "lemmatizer = WordNetLemmatizer()\n"
   ]
  },
  {
   "cell_type": "code",
   "execution_count": 8,
   "metadata": {
    "id": "YmpWmpgG6pSu"
   },
   "outputs": [],
   "source": [
    "def sent_preprocessing(sentence):\n",
    "\n",
    "    sentence = emoji_to_word(sentence)\n",
    "    sentence = tknzr.tokenize(sentence) \n",
    "    sentence = emotions_to_word(sentence)\n",
    "    sentence = ' '.join(sentence)\n",
    "    sentence = sentence.lower()\n",
    "    sentence = remove_punctuation_re(sentence)\n",
    "    sentence = remove_punctuation(sentence)\n",
    "    tokens = word_tokenize(sentence) #tokenisation\n",
    "    filtered_sentence = [w for w in tokens if not w in stop_words] #removing stop words\n",
    "    text_le = [lemmatizer.lemmatize(w) for w in filtered_sentence] #lemmatization\n",
    "\n",
    "    return text_le\n"
   ]
  },
  {
   "cell_type": "code",
   "execution_count": 9,
   "metadata": {
    "id": "DZ47AD_iBgUL"
   },
   "outputs": [],
   "source": [
    "text_train_le = [sent_preprocessing(s) for s in train_data]\n",
    "text_test_le = [sent_preprocessing(s) for s in test_data]"
   ]
  },
  {
   "cell_type": "markdown",
   "metadata": {
    "id": "LIu_lkJwQ55g"
   },
   "source": [
    "# 2 - Model Implementation"
   ]
  },
  {
   "cell_type": "markdown",
   "metadata": {
    "id": "daDvAftceIvr"
   },
   "source": [
    "## 2.1. Word Embeddings"
   ]
  },
  {
   "cell_type": "markdown",
   "metadata": {
    "id": "lbzm-NWBTmM-"
   },
   "source": [
    "*For word embedding, I chose the following 3 models for experimentation, namely Word2Vec with CBOW, Word2Vec with SkipGram, FastText with CBOW.*\n",
    "\n",
    "*Finally, from the result of 3.1, it can be concluded that Word2Vec with SkipGram is better in semantic accuracy.*\n",
    "\n",
    "*Since this project is sentiment analysis, semantic accuracy is particularly important, so I chose Word2Vec with SkipGram as the word embedding model.*"
   ]
  },
  {
   "cell_type": "code",
   "execution_count": 10,
   "metadata": {
    "id": "uFRUi7MNIopv"
   },
   "outputs": [],
   "source": [
    "!pip install -U -q PyDrive\n",
    "from pydrive.auth import GoogleAuth\n",
    "from pydrive.drive import GoogleDrive\n",
    "from google.colab import auth\n",
    "from oauth2client.client import GoogleCredentials\n",
    "from lxml import etree \n",
    "from nltk.tokenize import word_tokenize, sent_tokenize\n",
    "# Authenticate and create the PyDrive client.\n",
    "auth.authenticate_user()\n",
    "gauth = GoogleAuth()\n",
    "gauth.credentials = GoogleCredentials.get_application_default()\n",
    "drive = GoogleDrive(gauth)"
   ]
  },
  {
   "cell_type": "markdown",
   "metadata": {
    "id": "GXgFpxIgl-_G"
   },
   "source": [
    "### 2.1.1. Data Preprocessing for Word Embeddings"
   ]
  },
  {
   "cell_type": "markdown",
   "metadata": {
    "id": "qJrVHGYSmYMg"
   },
   "source": [
    "*For Word Embedding, because the experimental data set is too small, I merge train_data and test_data and added the TED data set as the Word Embedding data. Since the number of tokens in the data set is still very small, compared to 1.2 data preprocessing,this step does not remove stop words and lemmatization*"
   ]
  },
  {
   "cell_type": "code",
   "execution_count": 11,
   "metadata": {
    "id": "3cM4rlYkHefJ"
   },
   "outputs": [],
   "source": [
    "id = '1B47OiEiG2Lo1jUY6hy_zMmHBxfKQuJ8-'\n",
    "downloaded = drive.CreateFile({'id':id}) \n",
    "downloaded.GetContentFile('ted_en-20160408.xml')  \n",
    "targetXML=open('ted_en-20160408.xml', 'r', encoding='UTF8')\n",
    "\n",
    "# Getting contents of <content> tag from the xml file\n",
    "target_text = etree.parse(targetXML)\n",
    "parse_text = '\\n'.join(target_text.xpath('//content/text()'))"
   ]
  },
  {
   "cell_type": "code",
   "execution_count": 12,
   "metadata": {
    "colab": {
     "base_uri": "https://localhost:8080/"
    },
    "id": "B-JID4OkIZot",
    "outputId": "48f322e6-9679-4843-ac70-323415405c80"
   },
   "outputs": [
    {
     "name": "stderr",
     "output_type": "stream",
     "text": [
      "100%|██████████| 273424/273424 [00:28<00:00, 9481.69it/s] \n"
     ]
    }
   ],
   "source": [
    "# Removing \"Sound-effect labels\" using regular expression (regex) (i.e. (Audio), (Laughter))\n",
    "content_text = re.sub(r'\\([^)]*\\)', '', parse_text)\n",
    "\n",
    "# Tokenising the sentence to process it by using NLTK library\n",
    "sent_text=sent_tokenize(content_text)\n",
    "\n",
    "# Removing punctuation and changing all characters to lower case\n",
    "normalized_text = []\n",
    "for string in sent_text:\n",
    "     tokens = re.sub(r\"[^a-z0-9]+\", \" \", string.lower())\n",
    "     normalized_text.append(tokens)\n",
    "\n",
    "# Tokenising each sentence to process individual word\n",
    "sentences=[]\n",
    "sentences=[word_tokenize(sentence) for sentence in tqdm(normalized_text)]"
   ]
  },
  {
   "cell_type": "code",
   "execution_count": 13,
   "metadata": {
    "id": "1Rpq4vMREDzs"
   },
   "outputs": [],
   "source": [
    "#Define data preprocessing function\n",
    "def sent_emb_preprocessing(sentence):\n",
    "\n",
    "    sentence = emoji_to_word(sentence)\n",
    "    sentence = tknzr.tokenize(sentence) \n",
    "    sentence = emotions_to_word(sentence)\n",
    "    sentence = ' '.join(sentence)\n",
    "    sentence = sentence.lower()\n",
    "    sentence = remove_punctuation_re(sentence)\n",
    "    sentence = remove_punctuation(sentence)\n",
    "    tokens = word_tokenize(sentence)\n",
    "\n",
    "    return tokens"
   ]
  },
  {
   "cell_type": "code",
   "execution_count": 14,
   "metadata": {
    "colab": {
     "base_uri": "https://localhost:8080/"
    },
    "id": "yc6Rh0JFHc-g",
    "outputId": "938c829d-756a-42c5-8617-f8341e4e5656"
   },
   "outputs": [
    {
     "name": "stderr",
     "output_type": "stream",
     "text": [
      "100%|██████████| 10000/10000 [00:05<00:00, 1986.42it/s]\n"
     ]
    }
   ],
   "source": [
    "text_data = train_data + test_data # merge train_data and test_data \n",
    "text_emb_train = [sent_emb_preprocessing(s) for s in tqdm(text_data)]\n",
    "data_emb = text_emb_train + sentences # merge given data and TED data "
   ]
  },
  {
   "cell_type": "markdown",
   "metadata": {
    "id": "qhAgWf_AmbZ8"
   },
   "source": [
    "### 2.1.2. Build Word Embeddings Model"
   ]
  },
  {
   "cell_type": "markdown",
   "metadata": {
    "id": "AJ8rU7JbiBVS"
   },
   "source": [
    "*For Word Embedding, because the experimental data set is too small, the model parameter selects min_count=30 to avoid some rare words that affect the accuracy of semantics and Syntactic.Set epcoh = 10 to get good results and avoid overfitting*\n",
    "\n",
    "*For the Word2Vec with SkipGram model, the window size is set to [2,3,5,7,9] and the word vector dimension is set to [10,20,50,100,200] for comparison experiments.*\n",
    "\n",
    "*From the 3.1 results, it can be seen that the semantic accuracy of the Word2Vec with Skipgram model is higher, and it is more in line with the requirements of sentiment analysis. The window size is 3 and the word vector dimension of 50 is the best choice.*"
   ]
  },
  {
   "cell_type": "code",
   "execution_count": 16,
   "metadata": {
    "id": "TVPuwWgvNjOU"
   },
   "outputs": [],
   "source": [
    "# Please comment your code\n",
    "from gensim.models import Word2Vec\n",
    "from gensim.models import FastText\n",
    "from gensim.models.callbacks import CallbackAny2Vec\n",
    "\n",
    "#Code reference: https://radimrehurek.com/gensim\n",
    "#Define callbacks function (output W2V loss)\n",
    "class callback(CallbackAny2Vec):\n",
    "    \"\"\"\n",
    "    Callback to print loss after each epoch\n",
    "    \"\"\"\n",
    "    def __init__(self):\n",
    "        self.epoch = 0\n",
    "\n",
    "    def on_epoch_end(self, model):\n",
    "        loss = model.get_latest_training_loss()\n",
    "        if self.epoch == 0:\n",
    "            print('[Training Loss after epoch {}]: {}'.format(self.epoch + 1, loss))\n",
    "        else:\n",
    "            print('[Training Loss after epoch {}]: {}'.format(self.epoch + 1, loss- self.loss_previous_step))\n",
    "        self.epoch += 1\n",
    "        self.loss_previous_step = loss"
   ]
  },
  {
   "cell_type": "code",
   "execution_count": 91,
   "metadata": {
    "id": "AZOnZUWYAdTN"
   },
   "outputs": [],
   "source": [
    "def fasttext_training(data_emb, window = 5, size = 100):\n",
    "    ft_model = FastText(min_count=30, \n",
    "                        window = window, \n",
    "                        size = size, \n",
    "                        seed = 5, \n",
    "                        workers=2)\n",
    "    data_emb = data_emb\n",
    "    # build vovab\n",
    "    ft_model.build_vocab(data_emb)\n",
    "    # train the w2v model\n",
    "    start = time.perf_counter()\n",
    "    print(\"------------------------------------\")\n",
    "    print(\"Training FastText Embeddings: window size = {} Dim. = {}\".format(window, size))\n",
    "    print('Number of tokens:',ft_model.corpus_count)\n",
    "    ft_model.train(data_emb, \n",
    "                    total_examples=ft_model.corpus_count, \n",
    "                    epochs=10)\n",
    "\n",
    "    elapsed = (time.perf_counter() - start)\n",
    "    print('Finished Embeddings Training')\n",
    "    print(\"------------------------------------\")\n",
    "    print('Running time: %s Seconds'%(elapsed))\n",
    "\n",
    "    return ft_model\n",
    " \n"
   ]
  },
  {
   "cell_type": "code",
   "execution_count": 92,
   "metadata": {
    "id": "H227L6eV-1av"
   },
   "outputs": [],
   "source": [
    "def w2v_CBOW_training(data_emb, window = 5, size = 100):    \n",
    "    w2v_model = Word2Vec(min_count=30, \n",
    "                        window=window,\n",
    "                        sg = 0,  \n",
    "                        size=size, \n",
    "                        seed = 5, \n",
    "                        workers=2)\n",
    "    data_emb = data_emb\n",
    "    # build vovab\n",
    "    w2v_model.build_vocab(data_emb)\n",
    "    # train the w2v model\n",
    "    start = time.perf_counter()\n",
    "    print(\"------------------------------------\")\n",
    "    print(\"Training CBOW Embeddings: window size = {} Dim. = {}\".format(window, size))\n",
    "    print('Number of tokens:',w2v_model.corpus_count)\n",
    "    w2v_model.train(data_emb, \n",
    "                    total_examples=w2v_model.corpus_count, \n",
    "                    epochs=10, \n",
    "                    report_delay=1,\n",
    "                    compute_loss = True, # set compute_loss = True\n",
    "                    callbacks=[callback()]) # add the callback class\n",
    "\n",
    "    elapsed = (time.perf_counter() - start)\n",
    "    print('Finished Embeddings Training')\n",
    "    print(\"------------------------------------\")\n",
    "    print('Running time: %s Seconds'%(elapsed))\n",
    "    return w2v_model\n",
    "# save the word2vec model\n"
   ]
  },
  {
   "cell_type": "code",
   "execution_count": 93,
   "metadata": {
    "id": "T5-8xV1EPPL0"
   },
   "outputs": [],
   "source": [
    "def w2v_SG_training(data_emb,window = 5, size = 100):    \n",
    "    w2v_model = Word2Vec(min_count=30, \n",
    "                        window=window,\n",
    "                        sg = 1,  \n",
    "                        size=size,\n",
    "                        seed = 5, \n",
    "                        workers=2)\n",
    "    data_emb = data_emb\n",
    "    # build vovab\n",
    "    w2v_model.build_vocab(data_emb)\n",
    "    # train the w2v model\n",
    "    start = time.perf_counter()\n",
    "    print(\"------------------------------------\")\n",
    "    print(\"Training Skip-Gram Embeddings: window size = {} Dim. = {}\".format(window, size))\n",
    "    print('Number of tokens:',w2v_model.corpus_count)\n",
    "    w2v_model.train(data_emb, \n",
    "                    total_examples=w2v_model.corpus_count, \n",
    "                    epochs=10, \n",
    "                    report_delay=1,\n",
    "                    compute_loss = True, # set compute_loss = True\n",
    "                    callbacks=[callback()]) # add the callback class\n",
    "\n",
    "    elapsed = (time.perf_counter() - start)\n",
    "    print('Finished Embeddings Training')\n",
    "    print(\"------------------------------------\")\n",
    "    print('Running time: %s Seconds'%(elapsed))\n",
    "    return w2v_model"
   ]
  },
  {
   "cell_type": "markdown",
   "metadata": {
    "id": "LNys5HOdISK-"
   },
   "source": [
    "### 2.1.3. Train Word Embeddings Model"
   ]
  },
  {
   "cell_type": "code",
   "execution_count": 90,
   "metadata": {
    "colab": {
     "base_uri": "https://localhost:8080/"
    },
    "id": "JzXUTpUUC3q-",
    "outputId": "6c6502b5-f68d-43b7-8df6-8126e1c7f19e"
   },
   "outputs": [
    {
     "name": "stdout",
     "output_type": "stream",
     "text": [
      "------------------------------------\n",
      "Training FastText Embeddings: window size = 5 Dim. = 100\n",
      "Number of tokens: 283424\n",
      "Finished Embeddings Training\n",
      "------------------------------------\n",
      "Running time: 80.95745077999982 Seconds\n",
      "------------------------------------\n",
      "Training Skip-Gram Embeddings: window size = 5 Dim. = 100\n",
      "Number of tokens: 283424\n",
      "[Training Loss after epoch 1]: 14987708.0\n",
      "[Training Loss after epoch 2]: 12101336.0\n",
      "[Training Loss after epoch 3]: 9817452.0\n",
      "[Training Loss after epoch 4]: 7365008.0\n",
      "[Training Loss after epoch 5]: 7257608.0\n",
      "[Training Loss after epoch 6]: 7154356.0\n",
      "[Training Loss after epoch 7]: 7095004.0\n",
      "[Training Loss after epoch 8]: 1403896.0\n",
      "[Training Loss after epoch 9]: 90848.0\n",
      "[Training Loss after epoch 10]: 83312.0\n",
      "Finished Embeddings Training\n",
      "------------------------------------\n",
      "Running time: 93.8382735109999 Seconds\n",
      "------------------------------------\n",
      "Training CBOW Embeddings: window size = 5 Dim. = 100\n",
      "Number of tokens: 283424\n",
      "[Training Loss after epoch 1]: 3735192.25\n",
      "[Training Loss after epoch 2]: 2941546.75\n",
      "[Training Loss after epoch 3]: 2681414.0\n",
      "[Training Loss after epoch 4]: 2449143.0\n",
      "[Training Loss after epoch 5]: 2414956.0\n",
      "[Training Loss after epoch 6]: 2392994.0\n",
      "[Training Loss after epoch 7]: 2045874.0\n",
      "[Training Loss after epoch 8]: 1997556.0\n",
      "[Training Loss after epoch 9]: 1974040.0\n",
      "[Training Loss after epoch 10]: 1944056.0\n",
      "Finished Embeddings Training\n",
      "------------------------------------\n",
      "Running time: 29.226259637000112 Seconds\n"
     ]
    }
   ],
   "source": [
    "#training fasttext embedding with window = 5, size = 100\n",
    "ft_5win_100d = fasttext_training(data_emb, window = 5, size = 100)\n",
    "ft_5win_100d.wv.save_word2vec_format('ft_5win_100d.txt', binary=False)\n",
    "\n",
    "#training skip_gram embedding with window = 5, size = 100\n",
    "sg_5win_100d = w2v_SG_training(data_emb, window = 5, size = 100)\n",
    "sg_5win_100d.wv.save_word2vec_format('sg_5win_100d.txt', binary=False)\n",
    "\n",
    "#training cbow embedding with window = 5, size = 100\n",
    "cbow_5win_100d= w2v_CBOW_training(data_emb, window = 5, size = 100)\n",
    "cbow_5win_100d.wv.save_word2vec_format('cbow_5win_100d.txt', binary=False)"
   ]
  },
  {
   "cell_type": "code",
   "execution_count": 21,
   "metadata": {
    "colab": {
     "base_uri": "https://localhost:8080/"
    },
    "id": "Z1iwqZy97Gdy",
    "outputId": "065df0b9-6a16-479b-9574-8c98e8397d08"
   },
   "outputs": [
    {
     "name": "stdout",
     "output_type": "stream",
     "text": [
      "------------------------------------\n",
      "Training Skip-Gram Embeddings: window size = 5 Dim. = 10\n",
      "Number of tokens: 283424\n",
      "[Training Loss after epoch 1]: 15018668.0\n",
      "[Training Loss after epoch 2]: 12624312.0\n",
      "[Training Loss after epoch 3]: 9611428.0\n",
      "[Training Loss after epoch 4]: 6943848.0\n",
      "[Training Loss after epoch 5]: 6893776.0\n",
      "[Training Loss after epoch 6]: 6843456.0\n",
      "[Training Loss after epoch 7]: 6792856.0\n",
      "[Training Loss after epoch 8]: 2417544.0\n",
      "[Training Loss after epoch 9]: 55592.0\n",
      "[Training Loss after epoch 10]: 52368.0\n",
      "Finished Embeddings Training\n",
      "------------------------------------\n",
      "Running time: 73.44765570599998 Seconds\n",
      "------------------------------------\n",
      "Training Skip-Gram Embeddings: window size = 5 Dim. = 20\n",
      "Number of tokens: 283424\n",
      "[Training Loss after epoch 1]: 14984732.0\n",
      "[Training Loss after epoch 2]: 12376874.0\n",
      "[Training Loss after epoch 3]: 9720810.0\n",
      "[Training Loss after epoch 4]: 7082164.0\n",
      "[Training Loss after epoch 5]: 7049724.0\n",
      "[Training Loss after epoch 6]: 6973308.0\n",
      "[Training Loss after epoch 7]: 6903184.0\n",
      "[Training Loss after epoch 8]: 2075700.0\n",
      "[Training Loss after epoch 9]: 79304.0\n",
      "[Training Loss after epoch 10]: 76456.0\n",
      "Finished Embeddings Training\n",
      "------------------------------------\n",
      "Running time: 90.803082658 Seconds\n",
      "------------------------------------\n",
      "Training Skip-Gram Embeddings: window size = 5 Dim. = 50\n",
      "Number of tokens: 283424\n",
      "[Training Loss after epoch 1]: 14971641.0\n",
      "[Training Loss after epoch 2]: 12146781.0\n",
      "[Training Loss after epoch 3]: 9818322.0\n",
      "[Training Loss after epoch 4]: 7255592.0\n",
      "[Training Loss after epoch 5]: 7184688.0\n",
      "[Training Loss after epoch 6]: 7135836.0\n",
      "[Training Loss after epoch 7]: 7066608.0\n",
      "[Training Loss after epoch 8]: 1599292.0\n",
      "[Training Loss after epoch 9]: 86904.0\n",
      "[Training Loss after epoch 10]: 83520.0\n",
      "Finished Embeddings Training\n",
      "------------------------------------\n",
      "Running time: 101.88154899200003 Seconds\n",
      "------------------------------------\n",
      "Training Skip-Gram Embeddings: window size = 5 Dim. = 200\n",
      "Number of tokens: 283424\n",
      "[Training Loss after epoch 1]: 14948347.0\n",
      "[Training Loss after epoch 2]: 12067467.0\n",
      "[Training Loss after epoch 3]: 9879566.0\n",
      "[Training Loss after epoch 4]: 7451008.0\n",
      "[Training Loss after epoch 5]: 7317444.0\n",
      "[Training Loss after epoch 6]: 7194900.0\n",
      "[Training Loss after epoch 7]: 7104624.0\n",
      "[Training Loss after epoch 8]: 1217500.0\n",
      "[Training Loss after epoch 9]: 84880.0\n",
      "[Training Loss after epoch 10]: 79088.0\n",
      "Finished Embeddings Training\n",
      "------------------------------------\n",
      "Running time: 111.33097666499998 Seconds\n"
     ]
    }
   ],
   "source": [
    "#training skip_gram embedding with window = 5, size = 10\n",
    "sg_5win_10d = w2v_SG_training(data_emb, window = 5, size = 10)\n",
    "sg_5win_10d.wv.save_word2vec_format('sg_5win_10d.txt', binary=False)\n",
    "\n",
    "#training skip_gram embedding with window = 5, size = 20\n",
    "sg_5win_20d = w2v_SG_training(data_emb, window = 5, size = 20)\n",
    "sg_5win_20d.wv.save_word2vec_format('sg_5win_20d.txt', binary=False)\n",
    "\n",
    "#training skip_gram embedding with window = 5, size = 50\n",
    "sg_5win_50d = w2v_SG_training(data_emb, window = 5, size = 50)\n",
    "sg_5win_50d.wv.save_word2vec_format('sg_5win_50d.txt', binary=False)\n",
    "\n",
    "#training skip_gram embedding with window = 5, size = 200\n",
    "sg_5win_200d = w2v_SG_training(data_emb, window = 5, size = 200)\n",
    "sg_5win_200d.wv.save_word2vec_format('sg_5win_200d.txt', binary=False)\n"
   ]
  },
  {
   "cell_type": "code",
   "execution_count": 95,
   "metadata": {
    "colab": {
     "base_uri": "https://localhost:8080/"
    },
    "id": "MTjeIGroIe2H",
    "outputId": "6dcfc1ae-4ec2-4f61-e7fd-515ae74204b0"
   },
   "outputs": [
    {
     "name": "stdout",
     "output_type": "stream",
     "text": [
      "------------------------------------\n",
      "Training Skip-Gram Embeddings: window size = 2 Dim. = 50\n",
      "Number of tokens: 283424\n",
      "[Training Loss after epoch 1]: 9024882.0\n",
      "[Training Loss after epoch 2]: 7016693.0\n",
      "[Training Loss after epoch 3]: 6344389.0\n",
      "[Training Loss after epoch 4]: 6235132.0\n",
      "[Training Loss after epoch 5]: 5748212.0\n",
      "[Training Loss after epoch 6]: 3944820.0\n",
      "[Training Loss after epoch 7]: 3911692.0\n",
      "[Training Loss after epoch 8]: 3878304.0\n",
      "[Training Loss after epoch 9]: 3849392.0\n",
      "[Training Loss after epoch 10]: 3822020.0\n",
      "Finished Embeddings Training\n",
      "------------------------------------\n",
      "Running time: 61.03656311500072 Seconds\n",
      "------------------------------------\n",
      "Training Skip-Gram Embeddings: window size = 3 Dim. = 50\n",
      "Number of tokens: 283424\n",
      "[Training Loss after epoch 1]: 11175802.0\n",
      "[Training Loss after epoch 2]: 8833812.0\n",
      "[Training Loss after epoch 3]: 8337458.0\n",
      "[Training Loss after epoch 4]: 7157552.0\n",
      "[Training Loss after epoch 5]: 5170516.0\n",
      "[Training Loss after epoch 6]: 5127768.0\n",
      "[Training Loss after epoch 7]: 5100724.0\n",
      "[Training Loss after epoch 8]: 5079084.0\n",
      "[Training Loss after epoch 9]: 5015268.0\n",
      "[Training Loss after epoch 10]: 4983448.0\n",
      "Finished Embeddings Training\n",
      "------------------------------------\n",
      "Running time: 75.53197362399987 Seconds\n",
      "------------------------------------\n",
      "Training Skip-Gram Embeddings: window size = 7 Dim. = 50\n",
      "Number of tokens: 283424\n",
      "[Training Loss after epoch 1]: 18151778.0\n",
      "[Training Loss after epoch 2]: 15077036.0\n",
      "[Training Loss after epoch 3]: 9143410.0\n",
      "[Training Loss after epoch 4]: 8971752.0\n",
      "[Training Loss after epoch 5]: 8880172.0\n",
      "[Training Loss after epoch 6]: 6908812.0\n",
      "[Training Loss after epoch 7]: 97936.0\n",
      "[Training Loss after epoch 8]: 95496.0\n",
      "[Training Loss after epoch 9]: 90688.0\n",
      "[Training Loss after epoch 10]: 85008.0\n",
      "Finished Embeddings Training\n",
      "------------------------------------\n",
      "Running time: 126.97238237900001 Seconds\n",
      "------------------------------------\n",
      "Training Skip-Gram Embeddings: window size = 9 Dim. = 50\n",
      "Number of tokens: 283424\n",
      "[Training Loss after epoch 1]: 20619010.0\n",
      "[Training Loss after epoch 2]: 15742198.0\n",
      "[Training Loss after epoch 3]: 10535452.0\n",
      "[Training Loss after epoch 4]: 10375896.0\n",
      "[Training Loss after epoch 5]: 9841508.0\n",
      "[Training Loss after epoch 6]: 113912.0\n",
      "[Training Loss after epoch 7]: 110424.0\n",
      "[Training Loss after epoch 8]: 104448.0\n",
      "[Training Loss after epoch 9]: 98624.0\n",
      "[Training Loss after epoch 10]: 91760.0\n",
      "Finished Embeddings Training\n",
      "------------------------------------\n",
      "Running time: 148.24624672400023 Seconds\n"
     ]
    }
   ],
   "source": [
    "#training skip_gram embedding with window = 2, size = 50\n",
    "sg_2win_50d = w2v_SG_training(data_emb, window = 2, size = 50)\n",
    "sg_2win_50d.wv.save_word2vec_format('sg_2win_50d.txt', binary=False)\n",
    "\n",
    "#training skip_gram embedding with window = 3, size = 50\n",
    "sg_3win_50d = w2v_SG_training(data_emb, window = 3, size = 50)\n",
    "sg_3win_50d.wv.save_word2vec_format('sg_3win_50d.txt', binary=False)\n",
    "\n",
    "#training skip_gram embedding with window = 7, size = 50\n",
    "sg_7win_50d = w2v_SG_training(data_emb, window = 7, size = 50)\n",
    "sg_7win_50d.wv.save_word2vec_format('sg_7win_50d.txt', binary=False)\n",
    "\n",
    "#training skip_gram embedding with window = 9, size = 50\n",
    "sg_9win_50d = w2v_SG_training(data_emb, window = 9, size = 50)\n",
    "sg_9win_50d.wv.save_word2vec_format('sg_9win_50d.txt', binary=False)"
   ]
  },
  {
   "cell_type": "markdown",
   "metadata": {
    "id": "T0ap96aeGlIk"
   },
   "source": [
    "## 2.2. Lexicon Embeddings"
   ]
  },
  {
   "cell_type": "markdown",
   "metadata": {
    "id": "d16v3oKaGlI0"
   },
   "source": [
    "### 2.2.1. Lexicon-based Embedding"
   ]
  },
  {
   "cell_type": "code",
   "execution_count": 23,
   "metadata": {
    "id": "i2CUCL1cGlI2"
   },
   "outputs": [],
   "source": [
    "import pandas as pd\n",
    "import numpy as np\n",
    "import os\n",
    "#download positive-words.txt\n",
    "downloaded = drive.CreateFile({'id':'1DKCUIHAGVNTMIXzMI4mjC6MpX3HOMEKu'}) \n",
    "downloaded.GetContentFile('positive-words.txt') \n",
    "\n",
    "#download negative-words.txt\n",
    "downloaded = drive.CreateFile({'id':'1Ziqw5D_U-eGRZSljKU-sccbstvTJDE-X'}) \n",
    "downloaded.GetContentFile('negative-words.txt') "
   ]
  },
  {
   "cell_type": "code",
   "execution_count": 24,
   "metadata": {
    "colab": {
     "base_uri": "https://localhost:8080/"
    },
    "id": "HIjPuuyJeuek",
    "outputId": "5606442a-3732-442c-dff3-cab6b1029d9b"
   },
   "outputs": [
    {
     "name": "stdout",
     "output_type": "stream",
     "text": [
      "175\n",
      "174\n"
     ]
    }
   ],
   "source": [
    "#read positive-words.txt and negative-words.txt\n",
    "with open('negative-words.txt',\"r\", encoding='gbk') as f:\n",
    "    negative = f.read().split()\n",
    "with open('positive-words.txt',\"r\", encoding='gbk') as f:\n",
    "    positive = f.read().split()\n",
    "  \n",
    "#Find the index where the vocabulary starts\n",
    "print(negative.index('2-faced'))\n",
    "print(positive.index('a+'))\n"
   ]
  },
  {
   "cell_type": "code",
   "execution_count": 25,
   "metadata": {
    "colab": {
     "base_uri": "https://localhost:8080/"
    },
    "id": "eESRDWtAjRNw",
    "outputId": "0efbdb5a-b367-49fd-dd06-d78eca64bc13"
   },
   "outputs": [
    {
     "name": "stdout",
     "output_type": "stream",
     "text": [
      "2006 4783\n"
     ]
    }
   ],
   "source": [
    "#extrct negative_words and positive_words\n",
    "negative_words = negative[175:]\n",
    "positive_words = positive[174:]\n",
    "print(len(positive_words),len(negative_words))"
   ]
  },
  {
   "cell_type": "code",
   "execution_count": 26,
   "metadata": {
    "colab": {
     "base_uri": "https://localhost:8080/"
    },
    "id": "gWCwxzMikhuI",
    "outputId": "73605e5e-c797-4118-8760-1a5394cb3cce"
   },
   "outputs": [
    {
     "data": {
      "text/plain": [
       "[0, 0, 0, 0, 0, 2]"
      ]
     },
     "execution_count": 26,
     "metadata": {
      "tags": []
     },
     "output_type": "execute_result"
    }
   ],
   "source": [
    "def categorical_embedding(sentence):\n",
    "  '''\n",
    "  input: tokens\n",
    "  output: lexicon_embedding\n",
    "  '''\n",
    "  result = []\n",
    "  for word  in sentence:\n",
    "    if word in negative_words:\n",
    "      result.append(1)\n",
    "    elif word in positive_words:\n",
    "      result.append(2)\n",
    "    else:\n",
    "      result.append(0)\n",
    "\n",
    "  return result\n",
    "# get lexicon_embedding\n",
    "lexicon_embedding_train = [categorical_embedding(s) for s in text_train_le]\n",
    "lexicon_embedding_test = [categorical_embedding(s) for s in text_test_le]\n",
    "lexicon_embedding_train[0]"
   ]
  },
  {
   "cell_type": "markdown",
   "metadata": {
    "id": "tlCeWT8eeLnd"
   },
   "source": [
    "## 2.3. Bi-directional RNN Sequence model"
   ]
  },
  {
   "cell_type": "markdown",
   "metadata": {
    "id": "fwA-NN3EJ4Ig"
   },
   "source": [
    "### 2.3.1. Apply/Import Word Embedding and Lexicon Embedding"
   ]
  },
  {
   "cell_type": "code",
   "execution_count": 27,
   "metadata": {
    "id": "g7PKX1gIePA2"
   },
   "outputs": [],
   "source": [
    "#get the max_len of all text tokens\n",
    "max_len = max(len(sent) for sent in text_train_le+text_test_le)\n",
    "\n",
    "def concat_embedding(model,sentences,lexicon_embedding,emb_dim):\n",
    "  all_embedding_result = []\n",
    "  for i in range(len(sentences)):\n",
    "    sentence = sentences[i]\n",
    "    lexicon_list = lexicon_embedding[i]\n",
    "    embedding_result = []\n",
    "    diff_len = max_len - len(sentence)\n",
    "    # calculate the different len between current tokens and max_len\n",
    "\n",
    "    for j in range(len(sentence)):\n",
    "      word = sentence[j]\n",
    "      lex= lexicon_list[j]\n",
    "      try:\n",
    "        embedding_result.append(list(model.wv[word])+[lex])\n",
    "        #get total embedding\n",
    "      except:\n",
    "        # if OOV set as random number\n",
    "        embedding_result.append(list(np.random.randn(emb_dim+1)))\n",
    "\n",
    "    for _ in range(diff_len):\n",
    "      #Padding 0 for sentences that are not long enough\n",
    "      embedding_result.append(list(np.zeros(emb_dim+1)))\n",
    "\n",
    "    all_embedding_result.append(embedding_result)\n",
    "\n",
    "  return np.array(all_embedding_result)\n",
    "    "
   ]
  },
  {
   "cell_type": "code",
   "execution_count": 99,
   "metadata": {
    "colab": {
     "base_uri": "https://localhost:8080/"
    },
    "id": "W3h6qbsoMEbt",
    "outputId": "f2f05e60-f65f-45b1-834e-2e7489f679a9"
   },
   "outputs": [
    {
     "data": {
      "text/plain": [
       "(8000, 29, 51)"
      ]
     },
     "execution_count": 99,
     "metadata": {
      "tags": []
     },
     "output_type": "execute_result"
    }
   ],
   "source": [
    "emb_dim = 50\n",
    "train_sent_embedding = concat_embedding(sg_3win_50d,text_train_le, lexicon_embedding_train,emb_dim)\n",
    "test_sent_embedding = concat_embedding(sg_3win_50d,text_test_le, lexicon_embedding_test,emb_dim)\n",
    "train_sent_embedding.shape"
   ]
  },
  {
   "cell_type": "markdown",
   "metadata": {
    "id": "DpYCL17JKZxl"
   },
   "source": [
    "### 2.3.2. Build Sequence Model"
   ]
  },
  {
   "cell_type": "markdown",
   "metadata": {
    "id": "R204UIyDKhZ4"
   },
   "source": [
    "*For Sequence Model, I tried two models, Bi-RNN and Bi-LSTM. Since the amount of data is small and the selected word vector dimension is only 50, I set the number of features of the hidden layer to 64, and there is only one rnn or lstm layer. The experimental results are shown in Section 3.3. The final Bi-LSTM model performed better, with a higher F1 score, and trained for 300 epochs with a learning rate of 0.005 to obtain the best results.*\n",
    "\n",
    "code reference: lab5"
   ]
  },
  {
   "cell_type": "code",
   "execution_count": 29,
   "metadata": {
    "id": "13eCtR_SLUG6"
   },
   "outputs": [],
   "source": [
    "# Please comment your code\n",
    "import torch\n",
    "device = torch.device(\"cuda\" if torch.cuda.is_available() else \"cpu\")\n",
    "import torch.nn as nn\n",
    "import numpy as np\n",
    "import torch.nn.functional as F\n",
    "import torch.optim as optim\n",
    "from sklearn.metrics import accuracy_score,classification_report,f1_score\n",
    "\n",
    "n_class = 2\n",
    "n_hidden = 64\n",
    "class Bi_LSTM_Model(nn.Module):\n",
    "    def __init__(self):\n",
    "        super(Bi_LSTM_Model, self).__init__()\n",
    "        # bilstm layer\n",
    "        self.lstm = nn.LSTM(emb_dim, n_hidden, num_layers=1,batch_first =True, bidirectional=True)\n",
    "        self.linear = nn.Linear(n_hidden*2, n_class)\n",
    "        \n",
    "    def forward(self, x):    \n",
    "\n",
    "        lstm_out, (h_n,c_n) = self.lstm(x)\n",
    "        hidden_out =torch.cat((h_n[0,:,:],h_n[1,:,:]),1)\n",
    "        z = self.linear(hidden_out)\n",
    "\n",
    "        return z\n",
    "\n",
    "class Bi_RNN_Model(nn.Module):\n",
    "    def __init__(self):\n",
    "        super(Bi_RNN_Model, self).__init__()\n",
    "        # birnn layer\n",
    "        self.birnn = nn.RNN(emb_dim, n_hidden, num_layers=1, batch_first=True, bidirectional=True)\n",
    "\n",
    "        self.linear = nn.Linear(2*n_hidden, n_class)\n",
    "        \n",
    "    def forward(self, x):        \n",
    "    \n",
    "        _,h_n = self.birnn(x)\n",
    "        hidden_out =torch.cat((h_n[0,:,:],h_n[1,:,:]),1)\n",
    "        x = self.linear(hidden_out)\n",
    "\n",
    "        return x\n"
   ]
  },
  {
   "cell_type": "markdown",
   "metadata": {
    "id": "6BaOiaGRLW7R"
   },
   "source": [
    "### 2.3.3. Train Sequence Model\n",
    "\n"
   ]
  },
  {
   "cell_type": "code",
   "execution_count": 30,
   "metadata": {
    "id": "5xOCF1noWMjA"
   },
   "outputs": [],
   "source": [
    "#Define bi_RNN_training function\n",
    "def bi_RNN_training(learning_rate = 0.005,model_Birnn = Bi_RNN_Model()):\n",
    "\n",
    "  learning_rate = learning_rate\n",
    "  total_epoch = 300\n",
    "  model_Birnn.to(device)\n",
    "  # Loss function and optimizer\n",
    "  criterion = nn.CrossEntropyLoss()\n",
    "  optimizer = optim.Adam(model_Birnn.parameters(), lr=learning_rate)\n",
    "\n",
    "  # Preparing input\n",
    "  input_torch = torch.from_numpy(train_sent_embedding).float().to(device)\n",
    "  targe_torch = torch.from_numpy(np.array(train_label_encoded)).view(-1).to(device)\n",
    "  print(\"------------------------------------\")\n",
    "  print(\"Training Bi_RNN_Model:\")\n",
    "  f1_list = []\n",
    "  for epoch in range(total_epoch):  \n",
    "      \n",
    "      # Set the flag to training\n",
    "      model_Birnn.train()\n",
    "      \n",
    "      # forward + backward + optimize\n",
    "      optimizer.zero_grad()\n",
    "      outputs = model_Birnn(input_torch) \n",
    "      loss = criterion(outputs, targe_torch)\n",
    "      loss.backward()\n",
    "      optimizer.step()\n",
    "      \n",
    "      # predicted training data\n",
    "      predicted = torch.argmax(outputs, -1)\n",
    "      acc= accuracy_score(predicted.cpu().numpy(),targe_torch.cpu().numpy())\n",
    "\n",
    "      # predicted testing data and calculate f1_score\n",
    "      model_Birnn.eval()\n",
    "      test_outputs = model_Birnn(torch.from_numpy(test_sent_embedding).float().to(device)) \n",
    "      test_predicted = torch.argmax(test_outputs, 1)\n",
    "      test_acc = accuracy_score(test_predicted.cpu().numpy(),test_label_encoded)\n",
    "      f1 = f1_score(test_label_encoded,test_predicted.cpu().numpy())\n",
    "      f1_list.append(f1)\n",
    "\n",
    "      if epoch % 20 == 0:\n",
    "        print('[Epoch: %d],loss: %.5f,train_acc= %.4f,test_acc = %.4f,test_F1= %.4f' %(epoch + 1, loss.item(), acc, test_acc, f1))\n",
    "  print(\"------------------------------------\")\n",
    "  print('Finished Training')\n",
    "\n",
    "  return f1_list"
   ]
  },
  {
   "cell_type": "code",
   "execution_count": 31,
   "metadata": {
    "id": "lVQnUSX1LZ6C"
   },
   "outputs": [],
   "source": [
    "#Define bi_LSTM_training function\n",
    "def bi_LSTM_training(learning_rate = 0.005,model_Bilstm = Bi_LSTM_Model()):\n",
    "\n",
    "  learning_rate = learning_rate\n",
    "  total_epoch = 300\n",
    "  model_Bilstm.to(device)\n",
    "  # Loss function and optimizer\n",
    "  criterion = nn.CrossEntropyLoss()\n",
    "  optimizer = optim.Adam(model_Bilstm.parameters(), lr=learning_rate)\n",
    "\n",
    "  # Preparing input\n",
    "  input_torch = torch.from_numpy(train_sent_embedding).float().to(device)\n",
    "  targe_torch = torch.from_numpy(np.array(train_label_encoded)).view(-1).to(device)\n",
    "  print(\"------------------------------------\")\n",
    "  print(\"Training Bi_LSTM_Model:\")\n",
    "  f1_list = []\n",
    "  for epoch in range(total_epoch):  \n",
    "      \n",
    "      # Set the flag to training\n",
    "      model_Bilstm.train()\n",
    "      \n",
    "      # forward + backward + optimize\n",
    "      optimizer.zero_grad()\n",
    "      outputs = model_Bilstm(input_torch) \n",
    "      loss = criterion(outputs, targe_torch)\n",
    "      loss.backward()\n",
    "      optimizer.step()\n",
    "\n",
    "      # predicted training data\n",
    "      predicted = torch.argmax(outputs, -1)\n",
    "      acc= accuracy_score(predicted.cpu().numpy(),targe_torch.cpu().numpy())\n",
    "\n",
    "      # predicted testing data and calculate f1_score \n",
    "      model_Bilstm.eval()\n",
    "      test_outputs = model_Bilstm(torch.from_numpy(test_sent_embedding).float().to(device)) \n",
    "      test_predicted = torch.argmax(test_outputs, 1)\n",
    "      test_acc = accuracy_score(test_predicted.cpu().numpy(),test_label_encoded)\n",
    "      f1 = f1_score(test_label_encoded,test_predicted.cpu().numpy())\n",
    "\n",
    "      f1_list.append(f1)\n",
    "      \n",
    "      if (epoch + 1) % 20 == 0:\n",
    "        print('[Epoch: %d],loss: %.5f,train_acc= %.4f,test_acc = %.4f,test_F1= %.4f' %(epoch, loss.item(), acc, test_acc, f1))\n",
    "  print(\"------------------------------------\")\n",
    "  print('Finished Training')\n",
    "\n",
    "  return f1_list"
   ]
  },
  {
   "cell_type": "code",
   "execution_count": 32,
   "metadata": {
    "colab": {
     "base_uri": "https://localhost:8080/"
    },
    "id": "a0I21KhjccYy",
    "outputId": "26847215-bd7b-4cc0-a656-a4b3e08e1746"
   },
   "outputs": [
    {
     "name": "stdout",
     "output_type": "stream",
     "text": [
      "------------------------------------\n",
      "Training Bi_RNN_Model:\n",
      "[Epoch: 1],loss: 0.71294,train_acc= 0.4950,test_acc = 0.5325,test_F1= 0.3130\n",
      "[Epoch: 21],loss: 0.45571,train_acc= 0.7974,test_acc = 0.7835,test_F1= 0.7901\n",
      "[Epoch: 41],loss: 0.46726,train_acc= 0.7875,test_acc = 0.7600,test_F1= 0.7642\n",
      "[Epoch: 61],loss: 0.38281,train_acc= 0.8336,test_acc = 0.8150,test_F1= 0.8133\n",
      "[Epoch: 81],loss: 0.29088,train_acc= 0.8875,test_acc = 0.8665,test_F1= 0.8638\n",
      "[Epoch: 101],loss: 0.22471,train_acc= 0.9143,test_acc = 0.8915,test_F1= 0.8917\n",
      "[Epoch: 121],loss: 0.23664,train_acc= 0.9167,test_acc = 0.8345,test_F1= 0.8412\n",
      "[Epoch: 141],loss: 0.25068,train_acc= 0.9011,test_acc = 0.8305,test_F1= 0.8271\n",
      "[Epoch: 161],loss: 0.11547,train_acc= 0.9606,test_acc = 0.8645,test_F1= 0.8619\n",
      "[Epoch: 181],loss: 0.04214,train_acc= 0.9908,test_acc = 0.9095,test_F1= 0.9093\n",
      "[Epoch: 201],loss: 0.02044,train_acc= 0.9960,test_acc = 0.9225,test_F1= 0.9228\n",
      "[Epoch: 221],loss: 0.01151,train_acc= 0.9988,test_acc = 0.9260,test_F1= 0.9264\n",
      "[Epoch: 241],loss: 0.00763,train_acc= 0.9989,test_acc = 0.9270,test_F1= 0.9274\n",
      "[Epoch: 261],loss: 0.00506,train_acc= 0.9996,test_acc = 0.9290,test_F1= 0.9291\n",
      "[Epoch: 281],loss: 0.00490,train_acc= 0.9994,test_acc = 0.9260,test_F1= 0.9265\n",
      "------------------------------------\n",
      "Finished Training\n"
     ]
    }
   ],
   "source": [
    "# Training Bi_RNN_Model with 300 epochs and learning_rate = 0.005\n",
    "emb_dim = 51\n",
    "model_Birnn = Bi_RNN_Model()\n",
    "rnn_f1 = bi_RNN_training(learning_rate = 0.005,model_Birnn = model_Birnn)"
   ]
  },
  {
   "cell_type": "code",
   "execution_count": 33,
   "metadata": {
    "colab": {
     "base_uri": "https://localhost:8080/"
    },
    "id": "H5PJK7HBcd-J",
    "outputId": "8c974b8d-170d-4460-f974-86a1670fd687"
   },
   "outputs": [
    {
     "name": "stdout",
     "output_type": "stream",
     "text": [
      "------------------------------------\n",
      "Training Bi_LSTM_Model:\n",
      "[Epoch: 1],loss: 0.69403,train_acc= 0.5022,test_acc = 0.5150,test_F1= 0.6531\n",
      "[Epoch: 21],loss: 0.28461,train_acc= 0.9001,test_acc = 0.8995,test_F1= 0.8961\n",
      "[Epoch: 41],loss: 0.15341,train_acc= 0.9507,test_acc = 0.9390,test_F1= 0.9388\n",
      "[Epoch: 61],loss: 0.06846,train_acc= 0.9784,test_acc = 0.9685,test_F1= 0.9684\n",
      "[Epoch: 81],loss: 0.02569,train_acc= 0.9924,test_acc = 0.9815,test_F1= 0.9814\n",
      "[Epoch: 101],loss: 0.01200,train_acc= 0.9960,test_acc = 0.9860,test_F1= 0.9861\n",
      "[Epoch: 121],loss: 0.00643,train_acc= 0.9976,test_acc = 0.9865,test_F1= 0.9865\n",
      "[Epoch: 141],loss: 0.00359,train_acc= 0.9991,test_acc = 0.9860,test_F1= 0.9860\n",
      "[Epoch: 161],loss: 0.00230,train_acc= 0.9998,test_acc = 0.9865,test_F1= 0.9865\n",
      "[Epoch: 181],loss: 0.00159,train_acc= 0.9998,test_acc = 0.9865,test_F1= 0.9865\n",
      "[Epoch: 201],loss: 0.00110,train_acc= 0.9998,test_acc = 0.9870,test_F1= 0.9870\n",
      "[Epoch: 221],loss: 0.00055,train_acc= 0.9999,test_acc = 0.9880,test_F1= 0.9880\n",
      "[Epoch: 241],loss: 0.00040,train_acc= 0.9999,test_acc = 0.9875,test_F1= 0.9875\n",
      "[Epoch: 261],loss: 0.00032,train_acc= 0.9999,test_acc = 0.9865,test_F1= 0.9865\n",
      "[Epoch: 281],loss: 0.00027,train_acc= 1.0000,test_acc = 0.9875,test_F1= 0.9875\n",
      "------------------------------------\n",
      "Finished Training\n"
     ]
    }
   ],
   "source": [
    "# Training Bi_LSTM_Model with 300 epochs and learning_rate = 0.005\n",
    "emb_dim = 51\n",
    "model_Bilstm_005 = Bi_LSTM_Model()\n",
    "lstm_f1_005 = bi_LSTM_training(learning_rate = 0.005,model_Bilstm = model_Bilstm_005)"
   ]
  },
  {
   "cell_type": "code",
   "execution_count": 34,
   "metadata": {
    "colab": {
     "base_uri": "https://localhost:8080/"
    },
    "id": "dELzDnfVeY43",
    "outputId": "c8ba31b0-0a6d-4196-c807-819596736668"
   },
   "outputs": [
    {
     "name": "stdout",
     "output_type": "stream",
     "text": [
      "------------------------------------\n",
      "Training Bi_LSTM_Model:\n",
      "[Epoch: 1],loss: 0.69473,train_acc= 0.5014,test_acc = 0.5000,test_F1= 0.6667\n",
      "[Epoch: 21],loss: 0.67165,train_acc= 0.5860,test_acc = 0.5365,test_F1= 0.3138\n",
      "[Epoch: 41],loss: 0.23470,train_acc= 0.9230,test_acc = 0.9210,test_F1= 0.9213\n",
      "[Epoch: 61],loss: 0.01765,train_acc= 0.9948,test_acc = 0.9775,test_F1= 0.9775\n",
      "[Epoch: 81],loss: 0.00420,train_acc= 0.9992,test_acc = 0.9830,test_F1= 0.9830\n",
      "[Epoch: 101],loss: 0.00163,train_acc= 0.9999,test_acc = 0.9845,test_F1= 0.9845\n",
      "[Epoch: 121],loss: 0.00091,train_acc= 0.9999,test_acc = 0.9840,test_F1= 0.9840\n",
      "[Epoch: 141],loss: 0.00062,train_acc= 1.0000,test_acc = 0.9835,test_F1= 0.9835\n",
      "[Epoch: 161],loss: 0.00046,train_acc= 1.0000,test_acc = 0.9835,test_F1= 0.9835\n",
      "[Epoch: 181],loss: 0.00036,train_acc= 1.0000,test_acc = 0.9835,test_F1= 0.9835\n",
      "[Epoch: 201],loss: 0.00029,train_acc= 1.0000,test_acc = 0.9845,test_F1= 0.9845\n",
      "[Epoch: 221],loss: 0.00025,train_acc= 1.0000,test_acc = 0.9855,test_F1= 0.9855\n",
      "[Epoch: 241],loss: 0.00021,train_acc= 1.0000,test_acc = 0.9860,test_F1= 0.9860\n",
      "[Epoch: 261],loss: 0.00018,train_acc= 1.0000,test_acc = 0.9860,test_F1= 0.9860\n",
      "[Epoch: 281],loss: 0.00016,train_acc= 1.0000,test_acc = 0.9860,test_F1= 0.9860\n",
      "------------------------------------\n",
      "Finished Training\n"
     ]
    }
   ],
   "source": [
    "# Training Bi_LSTM_Model with 300 epochs and learning_rate = 0.05\n",
    "model_Bilstm_05 = Bi_LSTM_Model()\n",
    "lstm_f1_05 = bi_LSTM_training(learning_rate = 0.05,model_Bilstm = model_Bilstm_05)"
   ]
  },
  {
   "cell_type": "code",
   "execution_count": 35,
   "metadata": {
    "colab": {
     "base_uri": "https://localhost:8080/"
    },
    "id": "aakiddB2eY7X",
    "outputId": "fc963365-ef58-469b-c46c-f7c59ff3b2dd"
   },
   "outputs": [
    {
     "name": "stdout",
     "output_type": "stream",
     "text": [
      "------------------------------------\n",
      "Training Bi_LSTM_Model:\n",
      "[Epoch: 1],loss: 0.69696,train_acc= 0.5005,test_acc = 0.5000,test_F1= 0.0000\n",
      "[Epoch: 21],loss: 0.63119,train_acc= 0.7359,test_acc = 0.5970,test_F1= 0.6771\n",
      "[Epoch: 41],loss: 0.28732,train_acc= 0.8952,test_acc = 0.7920,test_F1= 0.7947\n",
      "[Epoch: 61],loss: 0.16976,train_acc= 0.9400,test_acc = 0.8205,test_F1= 0.8213\n",
      "[Epoch: 81],loss: 0.10680,train_acc= 0.9675,test_acc = 0.8350,test_F1= 0.8366\n",
      "[Epoch: 101],loss: 0.10836,train_acc= 0.9653,test_acc = 0.8570,test_F1= 0.8586\n",
      "[Epoch: 121],loss: 0.11446,train_acc= 0.9613,test_acc = 0.8520,test_F1= 0.8536\n",
      "[Epoch: 141],loss: 0.13338,train_acc= 0.9556,test_acc = 0.8900,test_F1= 0.8897\n",
      "[Epoch: 161],loss: 0.07426,train_acc= 0.9796,test_acc = 0.9065,test_F1= 0.9059\n",
      "[Epoch: 181],loss: 0.05518,train_acc= 0.9861,test_acc = 0.9095,test_F1= 0.9102\n",
      "[Epoch: 201],loss: 0.04460,train_acc= 0.9901,test_acc = 0.9240,test_F1= 0.9240\n",
      "[Epoch: 221],loss: 0.17366,train_acc= 0.9541,test_acc = 0.8965,test_F1= 0.8950\n",
      "[Epoch: 241],loss: 0.06263,train_acc= 0.9840,test_acc = 0.9205,test_F1= 0.9216\n",
      "[Epoch: 261],loss: 0.03852,train_acc= 0.9910,test_acc = 0.9340,test_F1= 0.9349\n",
      "[Epoch: 281],loss: 0.03860,train_acc= 0.9891,test_acc = 0.9290,test_F1= 0.9294\n",
      "------------------------------------\n",
      "Finished Training\n"
     ]
    }
   ],
   "source": [
    "# Training Bi_LSTM_Model with 300 epochs and learning_rate = 0.5\n",
    "model_Bilstm_5 = Bi_LSTM_Model()\n",
    "lstm_f1_5 = bi_LSTM_training(learning_rate = 0.5,model_Bilstm = model_Bilstm_5)"
   ]
  },
  {
   "cell_type": "code",
   "execution_count": 36,
   "metadata": {
    "colab": {
     "base_uri": "https://localhost:8080/"
    },
    "id": "mlYukKjQepvv",
    "outputId": "8cb13eae-80cc-4aa8-aaa2-b6af3e6cddbf"
   },
   "outputs": [
    {
     "name": "stdout",
     "output_type": "stream",
     "text": [
      "------------------------------------\n",
      "Training Bi_LSTM_Model:\n",
      "[Epoch: 1],loss: 0.69445,train_acc= 0.5038,test_acc = 0.5000,test_F1= 0.6667\n",
      "[Epoch: 21],loss: 0.19818,train_acc= 0.9365,test_acc = 0.9380,test_F1= 0.9373\n",
      "[Epoch: 41],loss: 0.02496,train_acc= 0.9906,test_acc = 0.9805,test_F1= 0.9804\n",
      "[Epoch: 61],loss: 0.01217,train_acc= 0.9966,test_acc = 0.9835,test_F1= 0.9835\n",
      "[Epoch: 81],loss: 0.00808,train_acc= 0.9981,test_acc = 0.9830,test_F1= 0.9830\n",
      "[Epoch: 101],loss: 0.00560,train_acc= 0.9988,test_acc = 0.9845,test_F1= 0.9845\n",
      "[Epoch: 121],loss: 0.00382,train_acc= 0.9992,test_acc = 0.9855,test_F1= 0.9855\n",
      "[Epoch: 141],loss: 0.00276,train_acc= 0.9998,test_acc = 0.9875,test_F1= 0.9875\n",
      "[Epoch: 161],loss: 0.00198,train_acc= 0.9998,test_acc = 0.9875,test_F1= 0.9875\n",
      "[Epoch: 181],loss: 0.00149,train_acc= 0.9998,test_acc = 0.9835,test_F1= 0.9835\n",
      "[Epoch: 201],loss: 0.00116,train_acc= 0.9998,test_acc = 0.9840,test_F1= 0.9840\n",
      "[Epoch: 221],loss: 0.00089,train_acc= 0.9999,test_acc = 0.9845,test_F1= 0.9845\n",
      "[Epoch: 241],loss: 0.00064,train_acc= 0.9999,test_acc = 0.9835,test_F1= 0.9835\n",
      "[Epoch: 261],loss: 0.00043,train_acc= 0.9999,test_acc = 0.9840,test_F1= 0.9840\n",
      "[Epoch: 281],loss: 0.00035,train_acc= 0.9999,test_acc = 0.9820,test_F1= 0.9819\n",
      "------------------------------------\n",
      "Finished Training\n"
     ]
    }
   ],
   "source": [
    "# Training Bi_LSTM_Model with 300 epochs and learning_rate = 0.1\n",
    "model_Bilstm_1 = Bi_LSTM_Model()\n",
    "lstm_f1_1 = bi_LSTM_training(learning_rate = 0.1,model_Bilstm = model_Bilstm_1)"
   ]
  },
  {
   "cell_type": "markdown",
   "metadata": {
    "id": "a4mpRpocePLN"
   },
   "source": [
    "# 3 - Evaluation\n"
   ]
  },
  {
   "cell_type": "markdown",
   "metadata": {
    "id": "0AdDj8F1ZW1l"
   },
   "source": [
    "## 3.1. Word Embedding Evaluation\n",
    "Apply Semantic-Syntactic word relationship tests for the trained word embeddings and visualise the result of Semantic-Syntactic word relationship tests.\n"
   ]
  },
  {
   "cell_type": "markdown",
   "metadata": {
    "id": "XF1XCS26S02X"
   },
   "source": [
    "![c.png](data:image/png;base64,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)![a.png](data:image/png;base64,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)![b.png](data:image/png;base64,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)"
   ]
  },
  {
   "cell_type": "markdown",
   "metadata": {
    "id": "MSIUsb7qtQEf"
   },
   "source": [
    "(*From the above results, it can be seen that the semantic accuracy of the Word2Vec with Skipgram model is higher, and it is more in line with the requirements of sentiment analysis. The window size is 3 and the word vector dimension of 50 is the best choice.*)"
   ]
  },
  {
   "cell_type": "code",
   "execution_count": 37,
   "metadata": {
    "colab": {
     "base_uri": "https://localhost:8080/"
    },
    "id": "tCrcXwcGsuuo",
    "outputId": "28c86fab-4dab-43e7-e53e-4328579b3103"
   },
   "outputs": [
    {
     "name": "stdout",
     "output_type": "stream",
     "text": [
      "Cloning into 'GloVe'...\n",
      "remote: Enumerating objects: 595, done.\u001b[K\n",
      "remote: Counting objects: 100% (3/3), done.\u001b[K\n",
      "remote: Compressing objects: 100% (3/3), done.\u001b[K\n",
      "remote: Total 595 (delta 0), reused 1 (delta 0), pack-reused 592\u001b[K\n",
      "Receiving objects: 100% (595/595), 222.33 KiB | 1.38 MiB/s, done.\n",
      "Resolving deltas: 100% (338/338), done.\n"
     ]
    }
   ],
   "source": [
    "# Please comment your code\n",
    "!git clone https://github.com/stanfordnlp/GloVe.git\n",
    "import pandas as pd\n",
    "import matplotlib.pyplot as pl"
   ]
  },
  {
   "cell_type": "code",
   "execution_count": 38,
   "metadata": {
    "id": "j3IiFlKRp8AY"
   },
   "outputs": [],
   "source": [
    "#code reference: https://github.com/usydnlp/COMP5046\n",
    "def get_voca(file_name):\n",
    "\n",
    "    vectors_file=\"/content/{}\".format(file_name)\n",
    "    with open(vectors_file, 'r') as f:\n",
    "      vectors = {}\n",
    "      for line in f.readlines()[1:]: # we only need the embedding vectors starting from the second line \n",
    "        vals = line.rstrip().split(' ')\n",
    "        \n",
    "        vectors[vals[0]] = [x for x in vals[1:]]\n",
    "\n",
    "    vocab_words=list(vectors.keys())\n",
    "    vocab_size = len(vocab_words)\n",
    "    print(\"Vocab size: \",str(vocab_size))\n",
    "\n",
    "    # create word->index and index->word converter\n",
    "    vocab = {w: idx for idx, w in enumerate(vocab_words)}\n",
    "    ivocab = {idx: w for idx, w in enumerate(vocab_words)}\n",
    "\n",
    "    # create the embedding matrix of shape (vocab_size, dim)\n",
    "    vector_dim = len(vectors[ivocab[0]])\n",
    "    W = np.zeros((vocab_size, vector_dim))\n",
    "    for word, v in vectors.items():\n",
    "        if word == '<unk>':\n",
    "            continue\n",
    "        W[vocab[word], :] = v\n",
    "\n",
    "    # normalize each word vector to unit length\n",
    "    # Vectors are usually normalized to unit length before they are used for similarity calculation, making cosine similarity and dot-product equivalent.\n",
    "    W_norm = np.zeros(W.shape)\n",
    "    d = (np.sum(W ** 2, 1) ** (0.5))\n",
    "    W_norm = (W.T / d).T\n",
    "\n",
    "    return W_norm,vocab"
   ]
  },
  {
   "cell_type": "code",
   "execution_count": 39,
   "metadata": {
    "id": "8KkdgQMZqBEG"
   },
   "outputs": [],
   "source": [
    "#code reference: https://github.com/usydnlp/COMP5046\n",
    "def evaluate_vectors(W, vocab, prefix='./eval/question-data/'):\n",
    "    \"\"\"Evaluate the trained word vectors on a variety of tasks\"\"\"\n",
    "\n",
    "    filenames = [\n",
    "        'capital-common-countries.txt', 'capital-world.txt', 'currency.txt',\n",
    "        'city-in-state.txt', 'family.txt', 'gram1-adjective-to-adverb.txt',\n",
    "        'gram2-opposite.txt', 'gram3-comparative.txt', 'gram4-superlative.txt',\n",
    "        'gram5-present-participle.txt', 'gram6-nationality-adjective.txt',\n",
    "        'gram7-past-tense.txt', 'gram8-plural.txt', 'gram9-plural-verbs.txt',\n",
    "        ]\n",
    "\n",
    "    # to avoid memory overflow, could be increased/decreased\n",
    "    # depending on system and vocab size\n",
    "    split_size = 100\n",
    "\n",
    "    correct_sem = 0; # count correct semantic questions\n",
    "    correct_syn = 0; # count correct syntactic questions\n",
    "    correct_tot = 0 # count correct questions\n",
    "    count_sem = 0; # count all semantic questions\n",
    "    count_syn = 0; # count all syntactic questions\n",
    "    count_tot = 0 # count all questions\n",
    "    full_count = 0 # count all questions, including those with unknown words\n",
    "\n",
    "    for i in range(len(filenames)):\n",
    "        with open('%s/%s' % (prefix, filenames[i]), 'r') as f:\n",
    "            full_data = [line.rstrip().split(' ') for line in f]\n",
    "            full_count += len(full_data)\n",
    "            data = [x for x in full_data if all(word in vocab for word in x)]\n",
    "\n",
    "        if len(data) == 0:\n",
    "            print(\"ERROR: no lines of vocab kept for %s !\" % filenames[i])\n",
    "            print(\"Example missing line:\", full_data[0])\n",
    "            continue\n",
    "\n",
    "        indices = np.array([[vocab[word] for word in row] for row in data])\n",
    "        ind1, ind2, ind3, ind4 = indices.T\n",
    "\n",
    "        predictions = np.zeros((len(indices),))\n",
    "        num_iter = int(np.ceil(len(indices) / float(split_size)))\n",
    "        for j in range(num_iter):\n",
    "            subset = np.arange(j*split_size, min((j + 1)*split_size, len(ind1)))\n",
    "\n",
    "            pred_vec = (W[ind2[subset], :] - W[ind1[subset], :]\n",
    "                +  W[ind3[subset], :])\n",
    "\n",
    "            #cosine similarity if input W has been normalized\n",
    "            dist = np.dot(W, pred_vec.T)\n",
    "\n",
    "\n",
    "            for k in range(len(subset)):\n",
    "                dist[ind1[subset[k]], k] = -np.Inf\n",
    "                dist[ind2[subset[k]], k] = -np.Inf\n",
    "                dist[ind3[subset[k]], k] = -np.Inf\n",
    "\n",
    "            # predicted word index\n",
    "            predictions[subset] = np.argmax(dist, 0).flatten()\n",
    "\n",
    "        \n",
    "        val = (ind4 == predictions) # correct predictions\n",
    "        count_tot = count_tot + len(ind1)\n",
    "        correct_tot = correct_tot + sum(val)\n",
    "        if i < 5:\n",
    "            count_sem = count_sem + len(ind1)\n",
    "            correct_sem = correct_sem + sum(val)\n",
    "        else:\n",
    "            count_syn = count_syn + len(ind1)\n",
    "            correct_syn = correct_syn + sum(val)\n",
    "        \n",
    "    semantic_accuracy = round(100 * correct_sem / float(count_sem), 2)\n",
    "    syntactic_accuracy = round(100 * correct_syn / float(count_syn), 2)\n",
    "    total_accuracy = round(100 * correct_tot / float(count_tot), 2)\n",
    "\n",
    "    print('Semantic accuracy: %.2f%% | Syntactic accuracy: %.2f%% | Total accuracy: %.2f%%' %\n",
    "    (semantic_accuracy, syntactic_accuracy, total_accuracy))\n",
    "\n",
    "    return semantic_accuracy, syntactic_accuracy, total_accuracy\n"
   ]
  },
  {
   "cell_type": "code",
   "execution_count": 40,
   "metadata": {
    "id": "SoxH0KwEpvoT"
   },
   "outputs": [],
   "source": [
    "def get_eval_tabel(embs_txt_list,model_list,dim_list):\n",
    "\n",
    "  eval_dict = {'Dim.':[],\n",
    "             'Sem.':[],\n",
    "             'Sym.':[],\n",
    "             'Tot.':[],}\n",
    "\n",
    "  for i,txt in enumerate(embs_txt_list):\n",
    "    print(\"------------------------------------\")\n",
    "    print(model_list[i],'accuracy result :')\n",
    "    W_norm,vocab = get_voca(txt)\n",
    "    semantic_acc, syntactic_acc, total_acc = evaluate_vectors(W_norm, \n",
    "                                                            vocab, \n",
    "                                                            prefix='/content/GloVe/eval/question-data')\n",
    "    #get Evaluation table\n",
    "    eval_dict['Dim.'].append(dim_list[i])\n",
    "    eval_dict['Sem.'].append(semantic_acc)\n",
    "    eval_dict['Sym.'].append(syntactic_acc)\n",
    "    eval_dict['Tot.'].append(total_acc)\n",
    "    print(\"------------------------------------\")\n",
    "\n",
    "  tabel = pd.DataFrame(eval_dict, index=model_list)\n",
    "  return eval_dict,tabel"
   ]
  },
  {
   "cell_type": "code",
   "execution_count": 94,
   "metadata": {
    "colab": {
     "base_uri": "https://localhost:8080/",
     "height": 404
    },
    "id": "Qn1mZgGGtQlo",
    "outputId": "062f9ee0-bb82-4cc3-c21f-90019894490e"
   },
   "outputs": [
    {
     "name": "stdout",
     "output_type": "stream",
     "text": [
      "------------------------------------\n",
      "FastText accuracy result :\n",
      "Vocab size:  7581\n",
      "Semantic accuracy: 30.66% | Syntactic accuracy: 72.53% | Total accuracy: 70.15%\n",
      "------------------------------------\n",
      "------------------------------------\n",
      "Skip-gram accuracy result :\n",
      "Vocab size:  7581\n",
      "Semantic accuracy: 47.39% | Syntactic accuracy: 38.65% | Total accuracy: 39.14%\n",
      "------------------------------------\n",
      "------------------------------------\n",
      "CBOW accuracy result :\n",
      "Vocab size:  7581\n",
      "Semantic accuracy: 45.64% | Syntactic accuracy: 36.80% | Total accuracy: 37.30%\n",
      "------------------------------------\n"
     ]
    },
    {
     "data": {
      "text/html": [
       "<div>\n",
       "<style scoped>\n",
       "    .dataframe tbody tr th:only-of-type {\n",
       "        vertical-align: middle;\n",
       "    }\n",
       "\n",
       "    .dataframe tbody tr th {\n",
       "        vertical-align: top;\n",
       "    }\n",
       "\n",
       "    .dataframe thead th {\n",
       "        text-align: right;\n",
       "    }\n",
       "</style>\n",
       "<table border=\"1\" class=\"dataframe\">\n",
       "  <thead>\n",
       "    <tr style=\"text-align: right;\">\n",
       "      <th></th>\n",
       "      <th>Dim.</th>\n",
       "      <th>Sem.</th>\n",
       "      <th>Sym.</th>\n",
       "      <th>Tot.</th>\n",
       "    </tr>\n",
       "  </thead>\n",
       "  <tbody>\n",
       "    <tr>\n",
       "      <th>FastText</th>\n",
       "      <td>100</td>\n",
       "      <td>30.66</td>\n",
       "      <td>72.53</td>\n",
       "      <td>70.15</td>\n",
       "    </tr>\n",
       "    <tr>\n",
       "      <th>Skip-gram</th>\n",
       "      <td>100</td>\n",
       "      <td>47.39</td>\n",
       "      <td>38.65</td>\n",
       "      <td>39.14</td>\n",
       "    </tr>\n",
       "    <tr>\n",
       "      <th>CBOW</th>\n",
       "      <td>100</td>\n",
       "      <td>45.64</td>\n",
       "      <td>36.80</td>\n",
       "      <td>37.30</td>\n",
       "    </tr>\n",
       "  </tbody>\n",
       "</table>\n",
       "</div>"
      ],
      "text/plain": [
       "           Dim.   Sem.   Sym.   Tot.\n",
       "FastText    100  30.66  72.53  70.15\n",
       "Skip-gram   100  47.39  38.65  39.14\n",
       "CBOW        100  45.64  36.80  37.30"
      ]
     },
     "execution_count": 94,
     "metadata": {
      "tags": []
     },
     "output_type": "execute_result"
    }
   ],
   "source": [
    "embs_txt_list = ['ft_5win_100d.txt','sg_5win_100d.txt','cbow_5win_100d.txt']\n",
    "model_list = ['FastText','Skip-gram','CBOW']\n",
    "dim_list = [100,100,100]\n",
    "_, tabel_1 = get_eval_tabel(embs_txt_list,model_list,dim_list)\n",
    "tabel_1\n",
    "#get Evaluation table with different embedding model"
   ]
  },
  {
   "cell_type": "code",
   "execution_count": 42,
   "metadata": {
    "colab": {
     "base_uri": "https://localhost:8080/",
     "height": 642
    },
    "id": "jWC37TDn4WAY",
    "outputId": "7933731e-1ffd-4135-ef4b-4625ed1f8e7b"
   },
   "outputs": [
    {
     "name": "stdout",
     "output_type": "stream",
     "text": [
      "------------------------------------\n",
      "Skip-gram with vector_siez = 10 accuracy result :\n",
      "Vocab size:  7581\n",
      "Semantic accuracy: 22.30% | Syntactic accuracy: 4.79% | Total accuracy: 5.78%\n",
      "------------------------------------\n",
      "------------------------------------\n",
      "Skip-gram with vector_siez = 20 accuracy result :\n",
      "Vocab size:  7581\n",
      "Semantic accuracy: 33.80% | Syntactic accuracy: 16.80% | Total accuracy: 17.77%\n",
      "------------------------------------\n",
      "------------------------------------\n",
      "Skip-gram with vector_siez = 50 accuracy result :\n",
      "Vocab size:  7581\n",
      "Semantic accuracy: 48.08% | Syntactic accuracy: 33.12% | Total accuracy: 33.97%\n",
      "------------------------------------\n",
      "------------------------------------\n",
      "Skip-gram with vector_siez = 100 accuracy result :\n",
      "Vocab size:  7581\n",
      "Semantic accuracy: 45.99% | Syntactic accuracy: 37.32% | Total accuracy: 37.82%\n",
      "------------------------------------\n",
      "------------------------------------\n",
      "Skip-gram with vector_siez = 200 accuracy result :\n",
      "Vocab size:  7581\n",
      "Semantic accuracy: 47.39% | Syntactic accuracy: 38.27% | Total accuracy: 38.79%\n",
      "------------------------------------\n"
     ]
    },
    {
     "data": {
      "text/html": [
       "<div>\n",
       "<style scoped>\n",
       "    .dataframe tbody tr th:only-of-type {\n",
       "        vertical-align: middle;\n",
       "    }\n",
       "\n",
       "    .dataframe tbody tr th {\n",
       "        vertical-align: top;\n",
       "    }\n",
       "\n",
       "    .dataframe thead th {\n",
       "        text-align: right;\n",
       "    }\n",
       "</style>\n",
       "<table border=\"1\" class=\"dataframe\">\n",
       "  <thead>\n",
       "    <tr style=\"text-align: right;\">\n",
       "      <th></th>\n",
       "      <th>Dim.</th>\n",
       "      <th>Sem.</th>\n",
       "      <th>Sym.</th>\n",
       "      <th>Tot.</th>\n",
       "    </tr>\n",
       "  </thead>\n",
       "  <tbody>\n",
       "    <tr>\n",
       "      <th>Skip-gram with vector_siez = 10</th>\n",
       "      <td>10</td>\n",
       "      <td>22.30</td>\n",
       "      <td>4.79</td>\n",
       "      <td>5.78</td>\n",
       "    </tr>\n",
       "    <tr>\n",
       "      <th>Skip-gram with vector_siez = 20</th>\n",
       "      <td>20</td>\n",
       "      <td>33.80</td>\n",
       "      <td>16.80</td>\n",
       "      <td>17.77</td>\n",
       "    </tr>\n",
       "    <tr>\n",
       "      <th>Skip-gram with vector_siez = 50</th>\n",
       "      <td>50</td>\n",
       "      <td>48.08</td>\n",
       "      <td>33.12</td>\n",
       "      <td>33.97</td>\n",
       "    </tr>\n",
       "    <tr>\n",
       "      <th>Skip-gram with vector_siez = 100</th>\n",
       "      <td>100</td>\n",
       "      <td>45.99</td>\n",
       "      <td>37.32</td>\n",
       "      <td>37.82</td>\n",
       "    </tr>\n",
       "    <tr>\n",
       "      <th>Skip-gram with vector_siez = 200</th>\n",
       "      <td>200</td>\n",
       "      <td>47.39</td>\n",
       "      <td>38.27</td>\n",
       "      <td>38.79</td>\n",
       "    </tr>\n",
       "  </tbody>\n",
       "</table>\n",
       "</div>"
      ],
      "text/plain": [
       "                                  Dim.   Sem.   Sym.   Tot.\n",
       "Skip-gram with vector_siez = 10     10  22.30   4.79   5.78\n",
       "Skip-gram with vector_siez = 20     20  33.80  16.80  17.77\n",
       "Skip-gram with vector_siez = 50     50  48.08  33.12  33.97\n",
       "Skip-gram with vector_siez = 100   100  45.99  37.32  37.82\n",
       "Skip-gram with vector_siez = 200   200  47.39  38.27  38.79"
      ]
     },
     "execution_count": 42,
     "metadata": {
      "tags": []
     },
     "output_type": "execute_result"
    }
   ],
   "source": [
    "emb_df_Dim_list = ['sg_5win_10d.txt',\n",
    "                   'sg_5win_20d.txt',\n",
    "                   'sg_5win_50d.txt',\n",
    "                   'sg_5win_100d.txt',\n",
    "                   'sg_5win_200d.txt']\n",
    "df_Dim_model_list = ['Skip-gram with vector_siez = 10',\n",
    "                     'Skip-gram with vector_siez = 20',\n",
    "                     'Skip-gram with vector_siez = 50',\n",
    "                     'Skip-gram with vector_siez = 100',\n",
    "                     'Skip-gram with vector_siez = 200']\n",
    "df_dim_list = [10,20,50,100,200]\n",
    "eval_dict2, tabel_2 = get_eval_tabel(emb_df_Dim_list,df_Dim_model_list,df_dim_list)\n",
    "tabel_2\n",
    "#get Evaluation table of Skipgram model with different vector_siez"
   ]
  },
  {
   "cell_type": "code",
   "execution_count": 96,
   "metadata": {
    "colab": {
     "base_uri": "https://localhost:8080/",
     "height": 642
    },
    "id": "y4rEp3wQFrTx",
    "outputId": "7baf0262-4853-4b53-ab44-66297e334a44"
   },
   "outputs": [
    {
     "name": "stdout",
     "output_type": "stream",
     "text": [
      "------------------------------------\n",
      "Skip-gram with window_siez = 2 accuracy result :\n",
      "Vocab size:  7581\n",
      "Semantic accuracy: 48.78% | Syntactic accuracy: 31.40% | Total accuracy: 32.39%\n",
      "------------------------------------\n",
      "------------------------------------\n",
      "Skip-gram with window_siez = 3 accuracy result :\n",
      "Vocab size:  7581\n",
      "Semantic accuracy: 54.36% | Syntactic accuracy: 31.59% | Total accuracy: 32.88%\n",
      "------------------------------------\n",
      "------------------------------------\n",
      "Skip-gram with window_siez = 5 accuracy result :\n",
      "Vocab size:  7581\n",
      "Semantic accuracy: 48.08% | Syntactic accuracy: 33.12% | Total accuracy: 33.97%\n",
      "------------------------------------\n",
      "------------------------------------\n",
      "Skip-gram with window_siez = 7 accuracy result :\n",
      "Vocab size:  7581\n",
      "Semantic accuracy: 48.43% | Syntactic accuracy: 33.31% | Total accuracy: 34.17%\n",
      "------------------------------------\n",
      "------------------------------------\n",
      "Skip-gram with window_siez = 9 accuracy result :\n",
      "Vocab size:  7581\n",
      "Semantic accuracy: 47.74% | Syntactic accuracy: 33.17% | Total accuracy: 33.99%\n",
      "------------------------------------\n"
     ]
    },
    {
     "data": {
      "text/html": [
       "<div>\n",
       "<style scoped>\n",
       "    .dataframe tbody tr th:only-of-type {\n",
       "        vertical-align: middle;\n",
       "    }\n",
       "\n",
       "    .dataframe tbody tr th {\n",
       "        vertical-align: top;\n",
       "    }\n",
       "\n",
       "    .dataframe thead th {\n",
       "        text-align: right;\n",
       "    }\n",
       "</style>\n",
       "<table border=\"1\" class=\"dataframe\">\n",
       "  <thead>\n",
       "    <tr style=\"text-align: right;\">\n",
       "      <th></th>\n",
       "      <th>Dim.</th>\n",
       "      <th>Sem.</th>\n",
       "      <th>Sym.</th>\n",
       "      <th>Tot.</th>\n",
       "    </tr>\n",
       "  </thead>\n",
       "  <tbody>\n",
       "    <tr>\n",
       "      <th>Skip-gram with window_siez = 2</th>\n",
       "      <td>50</td>\n",
       "      <td>48.78</td>\n",
       "      <td>31.40</td>\n",
       "      <td>32.39</td>\n",
       "    </tr>\n",
       "    <tr>\n",
       "      <th>Skip-gram with window_siez = 3</th>\n",
       "      <td>50</td>\n",
       "      <td>54.36</td>\n",
       "      <td>31.59</td>\n",
       "      <td>32.88</td>\n",
       "    </tr>\n",
       "    <tr>\n",
       "      <th>Skip-gram with window_siez = 5</th>\n",
       "      <td>50</td>\n",
       "      <td>48.08</td>\n",
       "      <td>33.12</td>\n",
       "      <td>33.97</td>\n",
       "    </tr>\n",
       "    <tr>\n",
       "      <th>Skip-gram with window_siez = 7</th>\n",
       "      <td>50</td>\n",
       "      <td>48.43</td>\n",
       "      <td>33.31</td>\n",
       "      <td>34.17</td>\n",
       "    </tr>\n",
       "    <tr>\n",
       "      <th>Skip-gram with window_siez = 9</th>\n",
       "      <td>50</td>\n",
       "      <td>47.74</td>\n",
       "      <td>33.17</td>\n",
       "      <td>33.99</td>\n",
       "    </tr>\n",
       "  </tbody>\n",
       "</table>\n",
       "</div>"
      ],
      "text/plain": [
       "                                Dim.   Sem.   Sym.   Tot.\n",
       "Skip-gram with window_siez = 2    50  48.78  31.40  32.39\n",
       "Skip-gram with window_siez = 3    50  54.36  31.59  32.88\n",
       "Skip-gram with window_siez = 5    50  48.08  33.12  33.97\n",
       "Skip-gram with window_siez = 7    50  48.43  33.31  34.17\n",
       "Skip-gram with window_siez = 9    50  47.74  33.17  33.99"
      ]
     },
     "execution_count": 96,
     "metadata": {
      "tags": []
     },
     "output_type": "execute_result"
    }
   ],
   "source": [
    "emb_df_win_list = ['sg_2win_50d.txt',\n",
    "                   'sg_3win_50d.txt',\n",
    "                   'sg_5win_50d.txt',\n",
    "                   'sg_7win_50d.txt',\n",
    "                   'sg_9win_50d.txt']\n",
    "df_win_model_list = ['Skip-gram with window_siez = 2',\n",
    "                     'Skip-gram with window_siez = 3',\n",
    "                     'Skip-gram with window_siez = 5',\n",
    "                     'Skip-gram with window_siez = 7',\n",
    "                     'Skip-gram with window_siez = 9']\n",
    "df_win_list = [50,50,50,50,50]\n",
    "eval_dict3, tabel_3 = get_eval_tabel(emb_df_win_list,df_win_model_list,df_win_list)\n",
    "tabel_3\n",
    "#get Evaluation table of Skipgram model with different window_siez"
   ]
  },
  {
   "cell_type": "code",
   "execution_count": 97,
   "metadata": {
    "colab": {
     "base_uri": "https://localhost:8080/",
     "height": 392
    },
    "id": "Qg4z0xVIKX_Y",
    "outputId": "b8048570-f302-41e0-d781-ba4a043fcaf6"
   },
   "outputs": [
    {
     "data": {
      "image/png": "[encoded data removed]",
      "text/plain": [
       "<Figure size 576x432 with 1 Axes>"
      ]
     },
     "metadata": {
      "needs_background": "light",
      "tags": []
     },
     "output_type": "display_data"
    }
   ],
   "source": [
    "pl.figure(figsize=(8,6))\n",
    "pl.plot(df_dim_list,eval_dict2['Sem.'],marker = \"o\")\n",
    "pl.plot(df_dim_list,eval_dict2['Sym.'],marker = \">\")\n",
    "pl.plot(df_dim_list,eval_dict2['Tot.'],marker = \"s\")\n",
    "pl.ylabel('Accuracy [%]')\n",
    "pl.xlabel('Vector Dimention')\n",
    "pl.legend(['Semantic','Syntactic','Total'])\n",
    "pl.yticks(np.arange(0, 80, step=10))\n",
    "pl.grid()\n",
    "#draw Evaluation data with different embedding model"
   ]
  },
  {
   "cell_type": "code",
   "execution_count": 98,
   "metadata": {
    "colab": {
     "base_uri": "https://localhost:8080/",
     "height": 392
    },
    "id": "Y8lrEnV_JEHR",
    "outputId": "6da224f4-4ce2-49af-8181-7c9ca582a1c0"
   },
   "outputs": [
    {
     "data": {
      "image/png": "[encoded data removed]",
      "text/plain": [
       "<Figure size 576x432 with 1 Axes>"
      ]
     },
     "metadata": {
      "needs_background": "light",
      "tags": []
     },
     "output_type": "display_data"
    }
   ],
   "source": [
    "pl.figure(figsize=(8,6))\n",
    "pl.plot([2,3,5,7,9],eval_dict3['Sem.'],marker = \"o\")\n",
    "pl.plot([2,3,5,7,9],eval_dict3['Sym.'],marker = \">\")\n",
    "pl.plot([2,3,5,7,9],eval_dict3['Tot.'],marker = \"s\")\n",
    "pl.ylabel('Accuracy [%]')\n",
    "pl.xlabel('window siez')\n",
    "pl.legend(['Semantic','Syntactic','Total'])\n",
    "pl.yticks(np.arange(20, 70, step=5))\n",
    "pl.grid()\n",
    "#draw Evaluation data of Skipgram model with different window_siez"
   ]
  },
  {
   "cell_type": "markdown",
   "metadata": {
    "id": "KEW1zMgVMREr"
   },
   "source": [
    "## 3.2. Performance Evaluation\n",
    "\n"
   ]
  },
  {
   "cell_type": "markdown",
   "metadata": {
    "id": "oVCF0bwTtRS0"
   },
   "source": [
    "(*The following results are the results of the optimal model, and the optimal model adopts the Bi-LSTM sequence model. Among them, the number of hidden layer features is 64, one layer of Lstm layer, 300 epochs are trained with a learning rate of 0.005, and the precision, recall, and f1 of the 0 and 1 labels of the test set have reached about 0.99.*)"
   ]
  },
  {
   "cell_type": "code",
   "execution_count": 46,
   "metadata": {
    "colab": {
     "base_uri": "https://localhost:8080/"
    },
    "id": "LPHCb-bneTI9",
    "outputId": "581afd5f-1874-40f7-d032-5f4322fa8983"
   },
   "outputs": [
    {
     "name": "stdout",
     "output_type": "stream",
     "text": [
      "              precision    recall  f1-score   support\n",
      "\n",
      "           0     0.9909    0.9840    0.9875      1000\n",
      "           1     0.9841    0.9910    0.9875      1000\n",
      "\n",
      "    accuracy                         0.9875      2000\n",
      "   macro avg     0.9875    0.9875    0.9875      2000\n",
      "weighted avg     0.9875    0.9875    0.9875      2000\n",
      "\n"
     ]
    }
   ],
   "source": [
    "# Please comment your code\n",
    "model_Bilstm_005.eval()\n",
    "outputs = model_Bilstm_005(torch.from_numpy(test_sent_embedding).float().to(device)) \n",
    "predicted = torch.argmax(outputs, 1)\n",
    "\n",
    "print(classification_report(test_label_encoded, predicted.cpu().numpy(),digits=4))"
   ]
  },
  {
   "cell_type": "markdown",
   "metadata": {
    "id": "P28Z1k36MZuo"
   },
   "source": [
    "## 3.3. Hyperparameter Testing\n"
   ]
  },
  {
   "cell_type": "markdown",
   "metadata": {
    "id": "BYzrA_s2tTaz"
   },
   "source": [
    "(*It can be seen from the following results that the Bi-LSTM model performs better and can obtain higher F1 scores, and better results can be obtained when the learning rate is set to 0.005.*)"
   ]
  },
  {
   "cell_type": "code",
   "execution_count": 47,
   "metadata": {
    "colab": {
     "base_uri": "https://localhost:8080/",
     "height": 404
    },
    "id": "wTLyQEeZMZ2f",
    "outputId": "fe8263b4-8622-429a-b0f6-6553d36db015"
   },
   "outputs": [
    {
     "data": {
      "image/png": "[encoded data removed]",
      "text/plain": [
       "<Figure size 576x432 with 1 Axes>"
      ]
     },
     "metadata": {
      "needs_background": "light",
      "tags": []
     },
     "output_type": "display_data"
    }
   ],
   "source": [
    "pl.figure(figsize=(8,6))\n",
    "pl.plot(rnn_f1)\n",
    "pl.plot(lstm_f1_005)\n",
    "pl.xlabel('Epoch')\n",
    "pl.ylabel('Test F1 Score')\n",
    "pl.title('Bi-RNN vs Bi-LSTM with 300epoch,learning rate = 0.005')\n",
    "pl.legend(['Bi-RNN','Bi-LSTM'],loc='best')\n",
    "pl.grid()"
   ]
  },
  {
   "cell_type": "code",
   "execution_count": 48,
   "metadata": {
    "colab": {
     "base_uri": "https://localhost:8080/",
     "height": 404
    },
    "id": "LY9L2a59evO0",
    "outputId": "d8e18eb9-858c-46e9-df55-dc8900d8e1d8"
   },
   "outputs": [
    {
     "data": {
      "image/png": "[encoded data removed]",
      "text/plain": [
       "<Figure size 576x432 with 1 Axes>"
      ]
     },
     "metadata": {
      "needs_background": "light",
      "tags": []
     },
     "output_type": "display_data"
    }
   ],
   "source": [
    "pl.figure(figsize=(8,6))\n",
    "pl.plot(lstm_f1_5)\n",
    "pl.plot(lstm_f1_1)\n",
    "pl.plot(lstm_f1_05)\n",
    "pl.plot(lstm_f1_005)\n",
    "pl.xlabel('Epoch')\n",
    "pl.ylabel('Test F1 Score')\n",
    "pl.title('Bi-LSTM with different learning rate')\n",
    "pl.legend(['lr = 0.5','lr = 0.1','lr = 0.05','lr = 0.005'],loc='best')\n",
    "pl.grid()"
   ]
  },
  {
   "cell_type": "code",
   "execution_count": 49,
   "metadata": {
    "colab": {
     "base_uri": "https://localhost:8080/",
     "height": 404
    },
    "id": "Nygnzec5o8Xf",
    "outputId": "8e9a20ac-0381-4a90-e5fd-7bcca1596146"
   },
   "outputs": [
    {
     "data": {
      "image/png": "[encoded data removed]",
      "text/plain": [
       "<Figure size 576x432 with 1 Axes>"
      ]
     },
     "metadata": {
      "needs_background": "light",
      "tags": []
     },
     "output_type": "display_data"
    }
   ],
   "source": [
    "pl.figure(figsize=(8,6))\n",
    "pl.plot(lstm_f1_005)\n",
    "pl.xlabel('Epoch')\n",
    "pl.ylabel('Test F1 Score')\n",
    "pl.title('Bi-LSTM with 300epoch,learning rate = 0.005')\n",
    "pl.grid()"
   ]
  }
 ],
 "metadata": {
  "accelerator": "GPU",
  "colab": {
   "collapsed_sections": [],
   "machine_shape": "hm",
   "name": "WGUO0096_COMP5046_Ass1.ipynb",
   "provenance": []
  },
  "kernelspec": {
   "display_name": "Python 3",
   "language": "python",
   "name": "python3"
  },
  "language_info": {
   "codemirror_mode": {
    "name": "ipython",
    "version": 3
   },
   "file_extension": ".py",
   "mimetype": "text/x-python",
   "name": "python",
   "nbconvert_exporter": "python",
   "pygments_lexer": "ipython3",
   "version": "3.8.2"
  }
 },
 "nbformat": 4,
 "nbformat_minor": 1
}
